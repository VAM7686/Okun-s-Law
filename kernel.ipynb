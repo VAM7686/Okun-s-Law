{
  "cells": [
    {
      "metadata": {
        "_uuid": "8f2839f25d086af736a60e9eeb907d3b93b6e0e5",
        "_cell_guid": "b1076dfc-b9ad-4769-8c92-a6c4dae69d19",
        "trusted": true,
        "collapsed": true
      },
      "cell_type": "code",
      "source": "# This Python 3 environment comes with many helpful analytics libraries installed\n# It is defined by the kaggle/python docker image: https://github.com/kaggle/docker-python\n# For example, here's several helpful packages to load in \n\nimport numpy as np # linear algebra\nimport pandas as pd # data processing, CSV file I/O (e.g. pd.read_csv)\n\n# Input data files are available in the \"../input/\" directory.\n# For example, running this (by clicking run or pressing Shift+Enter) will list the files in the input directory\n\nimport os\nprint(os.listdir(\"../input\"))\n\n# Any results you write to the current directory are saved as output.",
      "execution_count": null,
      "outputs": []
    },
    {
      "metadata": {
        "_cell_guid": "79c7e3d0-c299-4dcb-8224-4455121ee9b0",
        "_uuid": "d629ff2d2480ee46fbb7e2d37f6b5fab8052498a",
        "trusted": true
      },
      "cell_type": "code",
      "source": "library(ggplot2)\nlibrary(ggthemes)\nokun <- read.csv('../input/okun.csv')\nokun <- na.omit(okun)\n\ng <- ggplot(okun, aes(y=y.pct.chg, x=unemp.chg)) + geom_point(col='blue')\ng + xlab('Change in Unemployment Rate (percentage points)') + ylab('Percent Change in real GDP') ",
      "execution_count": null,
      "outputs": ["Call:\nlm(formula = y.pct.chg ~ unemp.chg, data = okun)\n\nResiduals:\n    Min      1Q  Median      3Q     Max\n-2.9762 -0.8710  0.1512  0.9752  4.3993\n\nCoefficients:\n            Estimate Std. Error t value Pr(>|t|)    \n(Intercept)   3.2479     0.1722   18.86   <2e-16 ***\nunemp.chg    -1.7547     0.1592  -11.03   <2e-16 ***\n---\nSignif. codes:  0 ‘***’ 0.001 ‘**’ 0.01 ‘*’ 0.05 ‘.’ 0.1 ‘ ’ 1\nResidual standard error: 1.42 on 66 degrees of freedom\nMultiple R-squared:  0.6481,	Adjusted R-squared:  0.6428 \nF-statistic: 121.6 on 1 and 66 DF,  p-value: < 2.2e-16"]
    },
    {
      "metadata": {
        "trusted": true,
        "_uuid": "d339635a5c88524ae58f4b17bf9863b72eab7521"
      },
      "cell_type": "code",
      "source": "okun.lm <- lm(y.pct.chg ~ unemp.chg, data = okun)\nsummary(okun.lm)",
      "execution_count": null,
      "outputs": []
    },
    {
      "metadata": {
        "trusted": true,
        "_uuid": "b2e272eb21c13cf68e322f5a970cb1436f6887b2"
      },
      "cell_type": "code",
      "source": "okun$yhat <- okun.lm$fitted.values\nokun.predict <- predict.lm(okun.lm, interval = 'confidence', level = .95, se.fit = TRUE)\nokun$upr <- okun.predict$fit[, 3]\nokun$lwr <- okun.predict$fit[, 2]\ng <- ggplot(okun, aes(y=y.pct.chg, x=unemp.chg)) + geom_point(col='blue')\ng <- g + geom_line(aes(y=yhat)) \ng <- g + xlab('Change in Unemployment Rate (Percentage Points)') + ylab('Percent Change in real GDP')\ng + geom_ribbon(aes(ymin=lwr, ymax=upr), alpha=.1)",
      "execution_count": null,
      "outputs": []
    }
  ],
  "metadata": {
    "kernelspec": {
      "display_name": "R",
      "language": "R",
      "name": "ir"
    },
    "language_info": {
      "mimetype": "text/x-r-source",
      "name": "R",
      "pygments_lexer": "r",
      "version": "3.4.2",
      "file_extension": ".r",
      "codemirror_mode": "r"
    }
  },
  "nbformat": 4,
  "nbformat_minor": 1
}
